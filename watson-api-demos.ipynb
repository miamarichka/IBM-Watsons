{
    "nbformat_minor": 1, 
    "cells": [
        {
            "source": "# DEMONSTRATION OF WATSON API'S\n\n--Get started with various Watson API's using Jupyter Notebook in IBM Watson Studio--", 
            "cell_type": "markdown", 
            "metadata": {}
        }, 
        {
            "execution_count": null, 
            "cell_type": "code", 
            "metadata": {}, 
            "outputs": [], 
            "source": "! pip install --upgrade \"watson-developer-cloud\""
        }, 
        {
            "source": "### 1. WATSON VISUAL RECOGNITION DEMO\nThe IBM Watson\u2122 Visual Recognition service uses deep learning algorithms to identify scenes, objects, and faces in images you upload to the service. \nYou can create and train a custom classifier to identify subjects that suit your needs.", 
            "cell_type": "markdown", 
            "metadata": {}
        }, 
        {
            "execution_count": null, 
            "cell_type": "code", 
            "metadata": {}, 
            "outputs": [], 
            "source": "##**CLASSIFY IMAGE DEMO**------------------------------------------------->\n\nimport json\nfrom watson_developer_cloud import VisualRecognitionV3\n\nvisual_recognition = VisualRecognitionV3(\n    '2016-05-20',\n    api_key='YOUR_VISUAL_RECOGNITION_API_KEY')\n\nclasses = visual_recognition.classify(\n        parameters=json.dumps({\n            'url':\"https://upload.wikimedia.org/wikipedia/commons/c/c9/Moon.jpg\",\n            'classifier_ids': ['default'],\n            'threshold': 0.4\n        }))\nprint(json.dumps(classes, indent=2))"
        }, 
        {
            "execution_count": null, 
            "cell_type": "code", 
            "metadata": {}, 
            "outputs": [], 
            "source": "##**DETECT FACES IN IMAGES**----------------------------------------------------------->\n\nimport json\nfrom watson_developer_cloud import VisualRecognitionV3\n\nvisual_recognition = VisualRecognitionV3(\n    '2016-05-20',\n    api_key='YOUR_VISUAL_RECOGNITION_API_KEY')\n\nclasses = visual_recognition.detect_faces(\n        parameters=json.dumps({\n            'url':\"http://pngimg.com/uploads/barack_obama/barack_obama_PNG22.png\",\n            'classifier_ids': ['default'],\n            'threshold': 0.4\n        }))\nprint(json.dumps(classes, indent=2))"
        }, 
        {
            "source": "### 2. WATSON TONE ANALYZER DEMO\nThe IBM Watson\u2122 Tone Analyzer service uses linguistic analysis to detect emotional and language tones in written text. The service can analyze tone at both the document and sentence levels. You can use the service to understand how your written communications are perceived and then to improve the tone of your communications. Businesses can use the service to learn the tone of their customers' communications and to respond to each customer appropriately, or to understand and improve their customer conversations.", 
            "cell_type": "markdown", 
            "metadata": {}
        }, 
        {
            "execution_count": null, 
            "cell_type": "code", 
            "metadata": {}, 
            "outputs": [], 
            "source": "##**ANALYZE GENERAL TONE**----------------------------------------------->\n\nimport json\nfrom watson_developer_cloud import ToneAnalyzerV3\n\ntone_analyzer = ToneAnalyzerV3(\n  username='YOUR_WATSON_SERVICE_USERNAME',\n  password='YOUR_WATSON_SERVICE_PASSWORD',\n  version='2017-09-21'\n)\n\ntone_output = tone_analyzer.tone(\"Team, I know that times are tough! Product sales have been disappointing for the past three quarters. We have a competitive product, but we need to do a better job of selling it!\",content_type=\"text/plain\")\n\nprint(json.dumps(tone_output, indent=2))"
        }, 
        {
            "execution_count": null, 
            "cell_type": "code", 
            "metadata": {}, 
            "outputs": [], 
            "source": "##**ANALYZE CUSTOMER ENGAGEMENT TONE**------------------------------------------------>\n\nimport json\nfrom watson_developer_cloud import ToneAnalyzerV3\n\ntone_analyzer = ToneAnalyzerV3(\n  username='YOUR_WATSON_SERVICE_USERNAME',\n  password='YOUR_WATSON_SERVICE_PASSWORD',\n  version='2017-09-21'\n)\n\nutterances = [{'text': 'I am very happy.', 'user': 'glenn'},\n              {'text': 'It is a good day.', 'user': 'glenn'}]\n\ntone_chat_analysis = tone_analyzer.tone_chat(utterances)\n\nprint(json.dumps(tone_chat_analysis, indent=2))\n\n"
        }, 
        {
            "source": "### 3. WATSON PERSONALITY INSIGHTS DEMO\n\nThe IBM Watson\u2122 Personality Insights service enables applications to derive insights from social media, enterprise data, or other digital communications. The service uses linguistic analytics to infer individuals' intrinsic personality characteristics, including Big Five, Needs, and Values, from digital communications such as email, text messages, tweets, and forum posts.", 
            "cell_type": "markdown", 
            "metadata": {}
        }, 
        {
            "execution_count": null, 
            "cell_type": "code", 
            "metadata": {}, 
            "outputs": [], 
            "source": "import json\nfrom watson_developer_cloud import PersonalityInsightsV3\n\npersonality_insights = PersonalityInsightsV3(\n  version='2017-10-13',\n  username='YOUR_WATSON_SERVICE_USERNAME',\n  password='YOUR_WATSON_SERVICE_PASSWORD')\n\nprofile = personality_insights.profile(\n  \"As the holiday season approaches, it is a time of year that we can easily get off track from doing the daily habits that keep us healthy.  A freezer full of baking, the pantry with extra treats, life gets busy, more entertaining and socializing--- it is common that the regular health disciplines aren\u2019t as consistent.   When this happens, do you find yourself feeling guilty (often making matters worse), and making promises to improve things in January?While January will come with its set of good intentions, what can you focus on during the next couple of weeks that is positive and beneficial to your health?Here are two unexpected health benefits that you can enjoy and do regularly as you get into the spirit of the holiday season\u2026\", content_type='text/plain',\n  raw_scores=True, consumption_preferences=True)\n\nprint(json.dumps(profile, indent=2))"
        }, 
        {
            "source": "### 4. WATSON LANGUAGE TRANSLATOR DEMO\n\nIBM Watson\u2122 Language Translator translates text from one language to another using news, patent, or conversation domain models that excel in specific contexts. You can also customize the provided models to improve translations for your use case. ", 
            "cell_type": "markdown", 
            "metadata": {}
        }, 
        {
            "execution_count": null, 
            "cell_type": "code", 
            "metadata": {}, 
            "outputs": [], 
            "source": "import json\nfrom watson_developer_cloud import LanguageTranslatorV2 as LanguageTranslator\n\nlanguage_translator = LanguageTranslator(\n    username='YOUR_WATSON_SERVICE_USERNAME',\n    password='YOUR_WATSON_SERVICE_PASSWORD')\n\ntranslation = language_translator.translate(\n    text='HEY, I AM TRYING WATSON LANGUAGE TRANSLATOR. HELLO WORLD!',\n    model_id='en-es')\nprint(json.dumps(translation, indent=2, ensure_ascii=False))\n\nlanguage = language_translator.identify('HEY, AL WATSON I AM LANGUAGE CONVERSOR. MUNDO HOLA!')\nprint(json.dumps(language, indent=2))"
        }, 
        {
            "source": "### 5. WATSON NATURAL LANGUAGE UNDERSTANDING DEMO\n\nNatural Language Understanding uses natural language processing to analyze semantic features of any text. Provide plain text, HTML, or a public URL, and Natural Language Understanding returns results for the features you specify. The service cleans HTML before analysis by default, which removes most advertisements and other unwanted content.\nYou can create custom models with Watson Knowledge Studio that can be used to detect custom entities and relations in Natural Language Understanding. ", 
            "cell_type": "markdown", 
            "metadata": {}
        }, 
        {
            "execution_count": null, 
            "cell_type": "code", 
            "metadata": {}, 
            "outputs": [], 
            "source": "import json\nfrom watson_developer_cloud import NaturalLanguageUnderstandingV1\nfrom watson_developer_cloud.natural_language_understanding_v1 \\\n  import Features, EntitiesOptions\n\nnatural_language_understanding = NaturalLanguageUnderstandingV1(\n  username='YOUR_WATSON_SERVICE_USERNAME',\n  password='YOUR_WATSON_SERVICE_PASSWORD',\n  version='2017-02-27')\n\nresponse = natural_language_understanding.analyze(\n  url='www.cnn.com',\n  features=Features(\n    entities=EntitiesOptions(\n      sentiment=True,\n      limit=1)))\n\nprint(json.dumps(response, indent=2))"
        }, 
        {
            "source": "### 6. WATSON ASSISTANT DEMO\n\nThe IBM Watson\u2122 Assistant service combines machine learning, natural language understanding, and integrated dialog tools to create conversation flows between your apps and your users.", 
            "cell_type": "markdown", 
            "metadata": {}
        }, 
        {
            "execution_count": null, 
            "cell_type": "code", 
            "metadata": {}, 
            "outputs": [], 
            "source": "import json\nfrom watson_developer_cloud import AssistantV1\n\nassistant = AssistantV1(\n    username='YOUR_WATSON_SERVICE_USERNAME',\n    password='YOUR_WATSON_SERVICE_PASSWORD',\n    version='2017-04-21'\n)\n\nresponse = assistant.message(\n    workspace_id='ENTER_YOUR_WATSON_ASSISTANT_WORKSPACE_ID',\n    input={'text': 'Hello'})\nprint(json.dumps(response, indent=2))"
        }, 
        {
            "source": "### 7. WATSON DISCOVERY NEWS DEMO\n\nThe IBM Watson\u2122 Discovery Service uses data analysis combined with cognitive intuition in order to take your unstructured data and enrich it so that you can query it to return the information that you need from it. This demo showcases the WATSON DISCOVERY NEWS DEMO.", 
            "cell_type": "markdown", 
            "metadata": {}
        }, 
        {
            "execution_count": null, 
            "cell_type": "code", 
            "metadata": {}, 
            "outputs": [], 
            "source": "import sys\nimport os\nimport json\nfrom watson_developer_cloud import DiscoveryV1\n\ndiscovery = DiscoveryV1(\n  username=\"YOUR_WATSON_DISCOVERY_SERVICE_USERNAME\",\n  password=\"YOUR_WATSON_DISCOVERY_SERVICE_PASSWORD\",\n  version=\"2017-11-07\"\n)\n\nmy_query = discovery.query(environment_id='system', collection_id='news-en', query='IBM', filter='watson',count='2')\nprint(json.dumps(my_query, indent=2))"
        }, 
        {
            "source": "### 8. WATSON TEXT TO SPEECH DEMO\n\nThe IBM\u00ae Text to Speech service provides an API that uses IBM's speech-synthesis capabilities to synthesize text into natural-sounding speech in a variety of languages, dialects, and voices. The service supports at least one male or female voice, sometimes both, for each language.", 
            "cell_type": "markdown", 
            "metadata": {}
        }, 
        {
            "execution_count": null, 
            "cell_type": "code", 
            "metadata": {}, 
            "outputs": [], 
            "source": "from __future__ import print_function\nimport IPython\nimport json\nfrom watson_developer_cloud import TextToSpeechV1\nfrom IPython.display import Audio\n\ntext_to_speech = TextToSpeechV1(\n    username='ENTER_TEXT_TO_SPEECH_USERNAME',\n    password='ENTER_TEXT_TO_SPEECH_PASSWORD')\n\nAudio(text_to_speech.synthesize('Hi,I am Allison. You can change from my voice to different other voices too!', accept='audio/wav',voice=\"en-US_AllisonVoice\").content)"
        }, 
        {
            "source": "### 9. WATSON NATURAL LANGUAGE CLASSIFIER DEMO\n\nIBM Watson\u2122 Natural Language Classifier uses machine learning algorithms to return the top matching predefined classes for short text input. You create and train a classifier to connect predefined classes to example texts so that the service can apply those classes to new inputs.", 
            "cell_type": "markdown", 
            "metadata": {}
        }, 
        {
            "execution_count": null, 
            "cell_type": "code", 
            "metadata": {}, 
            "outputs": [], 
            "source": "import json\nfrom watson_developer_cloud import NaturalLanguageClassifierV1\n\nnatural_language_classifier = NaturalLanguageClassifierV1(\n  username='YOUR_WATSON_SERVICE_USERNAME',\n  password='YOUR_WATSON_SERVICE_PASSWORD')\n\nclasses = natural_language_classifier.classify('YOUR_NLC_CLASSIFIER_ID', 'How hot will it be today?')\nprint(json.dumps(classes, indent=2))"
        }, 
        {
            "source": "### WATSON SPEECH TO TEXT DEMO\n\nThe IBM\u00ae Speech to Text service provides an API that enables you to add IBM's speech recognition capabilities to your applications. The service transcribes speech from various languages and audio formats to text with low latency. For most languages, the service supports two sampling rates, broadband and narrowband.", 
            "cell_type": "markdown", 
            "metadata": {}
        }, 
        {
            "execution_count": null, 
            "cell_type": "code", 
            "metadata": {}, 
            "outputs": [], 
            "source": "import json\nfrom watson_developer_cloud import SpeechToTextV1\nimport urllib.request\n\nspeech_to_text = SpeechToTextV1(\n    username='ENTER_SPEECH_TO_TEXT_USERNAME',\n    password='ENTER_SPEECH_TO_TEXT_PASSWORD',\n    url='https://stream.watsonplatform.net/speech-to-text/api')\n\nwith urllib.request.urlopen(\"http://www.pacdv.com/sounds/voices/pick-up-the-phone-1.wav\") as url:\n    audio_file = url.read()\nprint(\n    json.dumps(\n        speech_to_text.recognize(\n            audio=audio_file,\n            content_type='audio/wav',\n            timestamps=True,\n            word_confidence=True),\nindent=2))"
        }, 
        {
            "execution_count": null, 
            "cell_type": "code", 
            "metadata": {}, 
            "outputs": [], 
            "source": ""
        }
    ], 
    "metadata": {
        "kernelspec": {
            "display_name": "Python 3.5", 
            "name": "python3", 
            "language": "python"
        }, 
        "language_info": {
            "mimetype": "text/x-python", 
            "nbconvert_exporter": "python", 
            "version": "3.5.4", 
            "name": "python", 
            "file_extension": ".py", 
            "pygments_lexer": "ipython3", 
            "codemirror_mode": {
                "version": 3, 
                "name": "ipython"
            }
        }
    }, 
    "nbformat": 4
}